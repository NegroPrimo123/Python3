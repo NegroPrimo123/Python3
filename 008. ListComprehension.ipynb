{
 "cells": [
  {
   "cell_type": "markdown",
   "metadata": {
    "id": "-i1_6bydsMGF"
   },
   "source": [
    "# List Comprehension"
   ]
  },
  {
   "cell_type": "markdown",
   "metadata": {
    "id": "KOnt1u7tsNKB"
   },
   "source": [
    "## List Comprehension (составление списка)\n",
    " List Comprehension предлагает более короткий синтаксис, когда вы хотите создать новый список на основе значений существующего списка.\n",
    "\n",
    "Пример:\n",
    "\n",
    "На основе списка фруктов вам нужен новый список, содержащий только фрукты с буквой «а» в названии.\n",
    "\n",
    "Без List Comprehension вам придется написать `for` оператор с условным оператором `if` внутри:"
   ]
  },
  {
   "cell_type": "code",
   "execution_count": null,
   "metadata": {
    "colab": {
     "base_uri": "https://localhost:8080/"
    },
    "executionInfo": {
     "elapsed": 5,
     "status": "ok",
     "timestamp": 1668097699197,
     "user": {
      "displayName": "Наталья Пояркова",
      "userId": "05997905871093046879"
     },
     "user_tz": -180
    },
    "id": "RUsLlrVYsvng",
    "outputId": "53087e10-03e5-4262-b1fb-7df3abf49118"
   },
   "outputs": [
    {
     "name": "stdout",
     "output_type": "stream",
     "text": [
      "['банан', 'манго']\n"
     ]
    }
   ],
   "source": [
    "fruits = [\"яблоко\", \"банан\", \"вишня\", \"киви\", \"манго\"]\n",
    "newlist = []\n",
    "\n",
    "for x in fruits:\n",
    "  if \"а\" in x:\n",
    "    newlist.append(x)\n",
    "\n",
    "print(newlist)"
   ]
  },
  {
   "cell_type": "markdown",
   "metadata": {
    "id": "ZtPZX-rzs99i"
   },
   "source": [
    "С List Comprehension вы можете сделать все это с помощью всего одной строки кода:"
   ]
  },
  {
   "cell_type": "code",
   "execution_count": null,
   "metadata": {
    "id": "FbPfPb32tFwM"
   },
   "outputs": [],
   "source": [
    "fruits = [\"яблоко\", \"банан\", \"вишня\", \"киви\", \"манго\"]\n",
    "\n",
    "newlist = [x for x in fruits if \"а\" in x]\n",
    "\n",
    "print(newlist)"
   ]
  },
  {
   "cell_type": "markdown",
   "metadata": {
    "id": "x9-Nb7-auq1T"
   },
   "source": [
    "Возвращаемое значение при  использовании List Comprehensive — новый список, при этом  старый список остается без изменений.\n",
    "\n",
    "Условие похоже на фильтр , который принимает возвращает только те элементы, при которых значение логичекого выражения равно `True`."
   ]
  },
  {
   "cell_type": "markdown",
   "metadata": {
    "id": "cGqYYehtu_P_"
   },
   "source": []
  },
  {
   "cell_type": "code",
   "execution_count": null,
   "metadata": {
    "id": "ist6WtCqvLTg"
   },
   "outputs": [],
   "source": [
    "# В new_list добавьте только те значения, которые не являются «яблоко»:\n",
    "new_list = [x for x in fruits if x != \"яблоко\"]\n",
    "print(new_list)"
   ]
  },
  {
   "cell_type": "markdown",
   "metadata": {
    "id": "hz1wMrCzwHLK"
   },
   "source": [
    "Выражение `if x != \"яблоко\"`  будет возвращать `True` для всех элементов, кроме «яблока», в результате чего новый список будет содержать все фрукты, кроме «яблока».\n",
    "\n",
    "Условие является необязательным и может быть опущено:"
   ]
  },
  {
   "cell_type": "markdown",
   "metadata": {
    "id": "N3G1MTPnwPRe"
   },
   "source": [
    "Без оператора `if` в список будет добавлены все элементы:"
   ]
  },
  {
   "cell_type": "code",
   "execution_count": null,
   "metadata": {
    "id": "wlSFxHgMwQ3I"
   },
   "outputs": [],
   "source": [
    "new_list = [x for x in fruits]\n",
    "print(new_list)"
   ]
  },
  {
   "cell_type": "markdown",
   "metadata": {
    "id": "Nes2gLPzwpH_"
   },
   "source": [
    "\n",
    "После оператора `in `может быть любой итерируемый объект, например, список, кортеж, набор и т. д. Вы можете использовать функцию `range()` для создания итерации:"
   ]
  },
  {
   "cell_type": "code",
   "execution_count": null,
   "metadata": {
    "colab": {
     "base_uri": "https://localhost:8080/"
    },
    "executionInfo": {
     "elapsed": 772,
     "status": "ok",
     "timestamp": 1668097938748,
     "user": {
      "displayName": "Наталья Пояркова",
      "userId": "05997905871093046879"
     },
     "user_tz": -180
    },
    "id": "7sUg34z5w4AW",
    "outputId": "15ca2fcd-8cb2-4c47-c542-ff4d3a790323"
   },
   "outputs": [
    {
     "name": "stdout",
     "output_type": "stream",
     "text": [
      "[0, 1, 2, 3, 4, 5, 6, 7, 8, 9]\n"
     ]
    }
   ],
   "source": [
    "new_list = [x for x in range(10)]\n",
    "print(new_list)"
   ]
  },
  {
   "cell_type": "code",
   "execution_count": null,
   "metadata": {
    "colab": {
     "base_uri": "https://localhost:8080/"
    },
    "executionInfo": {
     "elapsed": 290,
     "status": "ok",
     "timestamp": 1668097956679,
     "user": {
      "displayName": "Наталья Пояркова",
      "userId": "05997905871093046879"
     },
     "user_tz": -180
    },
    "id": "xQshrcfFxAu1",
    "outputId": "531e438a-3045-4e85-8ad9-ec178842655b"
   },
   "outputs": [
    {
     "name": "stdout",
     "output_type": "stream",
     "text": [
      "[0, 1, 2, 3, 4]\n"
     ]
    }
   ],
   "source": [
    "#Принимать только числа меньше 5:\n",
    "new_list = [x for x in range(10) if x < 5]\n",
    "print(new_list)"
   ]
  },
  {
   "cell_type": "markdown",
   "metadata": {
    "id": "MRhDyQYtxaqQ"
   },
   "source": [
    "Выражение является текущим элементом в итерации, но также и результатом, которым вы можете манипулировать до того, как он станет элементом списка в новом списке :"
   ]
  },
  {
   "cell_type": "markdown",
   "metadata": {
    "id": "j2CcS4o3xsI7"
   },
   "source": [
    "Установите значения в новом списке в верхний регистр:"
   ]
  },
  {
   "cell_type": "code",
   "execution_count": null,
   "metadata": {
    "colab": {
     "base_uri": "https://localhost:8080/"
    },
    "executionInfo": {
     "elapsed": 265,
     "status": "ok",
     "timestamp": 1668098013307,
     "user": {
      "displayName": "Наталья Пояркова",
      "userId": "05997905871093046879"
     },
     "user_tz": -180
    },
    "id": "EcbOy8Wbxtj3",
    "outputId": "24dc6c2b-f296-40db-e863-3a43032e63fa"
   },
   "outputs": [
    {
     "name": "stdout",
     "output_type": "stream",
     "text": [
      "['ЯБЛОКО', 'БАНАН', 'ВИШНЯ', 'КИВИ', 'МАНГО']\n"
     ]
    }
   ],
   "source": [
    "new_list = [x.upper() for x in fruits]\n",
    "print(new_list)"
   ]
  },
  {
   "cell_type": "markdown",
   "metadata": {
    "id": "GZF7DLd0xvzg"
   },
   "source": [
    "Установите для всех значений в новом списке значение «привет»:"
   ]
  },
  {
   "cell_type": "code",
   "execution_count": null,
   "metadata": {
    "colab": {
     "base_uri": "https://localhost:8080/"
    },
    "executionInfo": {
     "elapsed": 265,
     "status": "ok",
     "timestamp": 1668098037356,
     "user": {
      "displayName": "Наталья Пояркова",
      "userId": "05997905871093046879"
     },
     "user_tz": -180
    },
    "id": "ICOCk6Wsxwk0",
    "outputId": "d88a0812-2626-4896-a9db-4b45cc27602f"
   },
   "outputs": [
    {
     "name": "stdout",
     "output_type": "stream",
     "text": [
      "['привет', 'привет', 'привет', 'привет', 'привет']\n"
     ]
    }
   ],
   "source": [
    "new_list = ['привет' for x in fruits]\n",
    "print(new_list)"
   ]
  },
  {
   "cell_type": "markdown",
   "metadata": {
    "id": "xPCzNc91yMOX"
   },
   "source": [
    "Выражение также может содержать условия, но не как фильтр, а как способ управления результатом:"
   ]
  },
  {
   "cell_type": "markdown",
   "metadata": {
    "id": "uW_A5xjCyPKr"
   },
   "source": [
    "Вставить в новый список все элементы из заданного списка, но вместо «банан» записать «апельсин»:"
   ]
  },
  {
   "cell_type": "code",
   "execution_count": null,
   "metadata": {
    "id": "taj5inB0yQuL"
   },
   "outputs": [],
   "source": [
    "new_list = [x if x != \"банан\" else \"апельсин\" for x in fruits]\n",
    "print(new_list)\n"
   ]
  },
  {
   "cell_type": "markdown",
   "metadata": {
    "id": "FXBIDifBclwd"
   },
   "source": [
    "#Задания"
   ]
  },
  {
   "cell_type": "markdown",
   "metadata": {
    "id": "1v9vqf7KcwDj"
   },
   "source": [
    "Задан список nums, используйте его для выполнения заданий, расположенных ниже"
   ]
  },
  {
   "cell_type": "code",
   "execution_count": null,
   "metadata": {
    "id": "lBJOi-XGsqjA"
   },
   "outputs": [],
   "source": [
    "nums = [4, 8, 15, 16, 23, 42]"
   ]
  },
  {
   "cell_type": "markdown",
   "metadata": {
    "id": "6ZG4UmoRsi4f"
   },
   "source": [
    "###Задача 1. Создайте новый список с именем double_nums, умножив каждое число списка nums на 2"
   ]
  },
  {
   "cell_type": "code",
   "execution_count": null,
   "metadata": {
    "colab": {
     "base_uri": "https://localhost:8080/"
    },
    "executionInfo": {
     "elapsed": 242,
     "status": "ok",
     "timestamp": 1668098232499,
     "user": {
      "displayName": "Наталья Пояркова",
      "userId": "05997905871093046879"
     },
     "user_tz": -180
    },
    "id": "QNPR8lCCc8Vx",
    "outputId": "81a8c365-8403-4164-824a-6b2ce354f7f0"
   },
   "outputs": [
    {
     "name": "stdout",
     "output_type": "stream",
     "text": [
      "[8, 16, 30, 32, 46, 84]\n"
     ]
    }
   ],
   "source": [
    "nums = [4, 8, 15, 16, 23, 42]\n",
    "double_nums = [el * 2 for el in nums]\n",
    "print(double_nums)\n"
   ]
  },
  {
   "cell_type": "markdown",
   "metadata": {
    "id": "wy6_wAPqtdGH"
   },
   "source": [
    "###Задача 2 Создайте список nums, состоящий из чисел от 0 до 10 (вклюяая 0 и 10) с помощью функции range. Создайте новый список с именем squares, который содержит квадрат каждого числа в списке num_range."
   ]
  },
  {
   "cell_type": "code",
   "execution_count": null,
   "metadata": {
    "id": "HTjeoplIu7A-"
   },
   "outputs": [],
   "source": [
    "num_range = range(11)\n",
    "squares = [el ** 2 for el in num_range]\n",
    "print(squares)\n"
   ]
  },
  {
   "cell_type": "markdown",
   "metadata": {
    "id": "WL2GvQSPvlA2"
   },
   "source": [
    "###Задача 3 Создайте новый список с именем add_ten, который добавляет 10 к каждому элементу в списке nums"
   ]
  },
  {
   "cell_type": "code",
   "execution_count": null,
   "metadata": {
    "id": "Kclpvno2dMgZ"
   },
   "outputs": [],
   "source": [
    "nums = [4, 8, 15, 16, 23, 42]\n",
    "add_ten = [el + 10 for el in nums]\n",
    "print(add_ten)\n"
   ]
  },
  {
   "cell_type": "markdown",
   "metadata": {
    "id": "WnwLw4rPwq3F"
   },
   "source": [
    "###Задача 4 Создайте новый список с именем divide_by_two, который содержит половину каждого элемента в списке nums. Убедитесь, что используете целочисленное деление"
   ]
  },
  {
   "cell_type": "code",
   "execution_count": null,
   "metadata": {
    "id": "3-kGlUyfdXSh"
   },
   "outputs": [],
   "source": [
    "nums = [4, 8, 15, 16, 23, 42]\n",
    "divide_by_two = [el // 2 for el in nums]\n",
    "print(divide_by_two)\n"
   ]
  },
  {
   "cell_type": "markdown",
   "metadata": {
    "id": "MOJOA4uuyYwc"
   },
   "source": [
    "###Задача 5. Создайте новый список с именем `parity` (четность), содержащий  1 или  0 для каждого элемента `nums`, если этот элемент был четным, новый список должен содержать 0. Если элемент был нечетным, новый список должен содержать 1."
   ]
  },
  {
   "cell_type": "code",
   "execution_count": null,
   "metadata": {
    "id": "vIlDDdI4dydx"
   },
   "outputs": [],
   "source": [
    "nums = [4, 8, 15, 16, 23, 42]\n",
    "parity = [0 if el % 2 == 0 else 1 for el in nums]\n",
    "print(parity)\n"
   ]
  },
  {
   "cell_type": "markdown",
   "metadata": {
    "id": "ONsDrz81JLgU"
   },
   "source": [
    "###Задача 6. Создайте новый список с именем, greetings, в котором будет добавляться \"Hello, \"перед каждым именем в списке names. Используйте операцию конкатенации, слияния строк \"+\""
   ]
  },
  {
   "cell_type": "code",
   "execution_count": null,
   "metadata": {
    "id": "lwNVdWXtTgf3"
   },
   "outputs": [],
   "source": [
    "names = [\"Alice\", \"Bob\", \"Charlie\", \"Diana\"]\n",
    "greetings = [\"Hello, \" + name for name in names]\n",
    "print(greetings)"
   ]
  },
  {
   "cell_type": "markdown",
   "metadata": {
    "id": "5CHTnOvHNt5B"
   },
   "source": [
    "### Задача 7. Создайте новый список с именем, `first_character`, который содержит первый символ из каждого имени в списке names. Чтобы получить символ из строки, можно использовать ее индекс, указав его в квадратных скобках. Индексация начинается с 0. Например: `str[3]` даст четвертый символ из строки str"
   ]
  },
  {
   "cell_type": "code",
   "execution_count": null,
   "metadata": {
    "id": "ZdVsE-9DSXng"
   },
   "outputs": [],
   "source": [
    "names = [\"Alice\", \"Bob\", \"Charlie\", \"Diana\"]\n",
    "first_character = [name[0] for name in names]\n",
    "print(first_character)\n"
   ]
  },
  {
   "cell_type": "markdown",
   "metadata": {
    "id": "mXRnqPLnPqmJ"
   },
   "source": [
    "### Задача 8. Создайте новый список с именем `lengths`, который содержит размер каждого имени в списке имен names. Для того, чтобы получить длину строки можно использовать функцию len. Например: len(str)"
   ]
  },
  {
   "cell_type": "code",
   "execution_count": null,
   "metadata": {
    "id": "ULqjObX3SiJJ"
   },
   "outputs": [],
   "source": [
    "names = [\"Alice\", \"Bob\", \"Charlie\", \"Diana\"]\n",
    "lengths = [len(name) for name in names]\n",
    "print(lengths)\n"
   ]
  },
  {
   "cell_type": "markdown",
   "metadata": {
    "id": "Y8s6ui35TuzM"
   },
   "source": [
    "### Задача 9. Создайте новый список с именем opposite, который содержит противоположное логическое значение для каждого элемента в списке booleans. Используйте логическую операцию not"
   ]
  },
  {
   "cell_type": "code",
   "execution_count": null,
   "metadata": {
    "id": "bsXbRJztTsnK"
   },
   "outputs": [],
   "source": [
    "booleans = [True, False, True]\n",
    "opposite = [not value for value in booleans]\n",
    "print(opposite)\n"
   ]
  },
  {
   "cell_type": "markdown",
   "metadata": {
    "id": "I4N4bPNwU-LV"
   },
   "source": [
    "### Задача 10. Создайте новый список с именем is_Jerry, в котором элементы должен быть логические значения True или False. True должно быть на таких позициях на которых в списке names записано имя Jerry. Используйте операцию сравнения \"==\"  "
   ]
  },
  {
   "cell_type": "code",
   "execution_count": null,
   "metadata": {
    "id": "bzA6eeKvT2ne"
   },
   "outputs": [],
   "source": [
    "names = [\"Alice\", \"Jerry\", \"Charlie\", \"Jerry\", \"Diana\"]\n",
    "is_Jerry = [name == \"Jerry\" for name in names]\n",
    "print(is_Jerry)\n"
   ]
  },
  {
   "cell_type": "markdown",
   "metadata": {
    "id": "_dkeXreUSPJg"
   },
   "source": [
    "###Задача 11. Задан список `temp_cel`, содержащий температуру воздуха, выраженную в градусах Цельсия. Создайте список `temp_far`, содержащий те же значения температуры воздуха, но выраженные в градусах Фаренгейта. Формула перевода $ F = (C * \\frac{9}{5}) + 32 $, где C- температура в градусах Цельсия,  F - температура в градусах Фаренгейта"
   ]
  },
  {
   "cell_type": "code",
   "execution_count": null,
   "metadata": {
    "id": "_wfCFL1iWTvS"
   },
   "outputs": [],
   "source": [
    "temp_cel = [0, 20, 37, 100]\n",
    "temp_far = [(C * 9/5) + 32 for C in temp_cel]\n",
    "print(temp_far)\n"
   ]
  }
 ],
 "metadata": {
  "colab": {
   "authorship_tag": "ABX9TyNz3Zj8Su/91u21MD58SVjl",
   "provenance": []
  },
  "kernelspec": {
   "display_name": "Python 3",
   "language": "python",
   "name": "python3"
  },
  "language_info": {
   "codemirror_mode": {
    "name": "ipython",
    "version": 3
   },
   "file_extension": ".py",
   "mimetype": "text/x-python",
   "name": "python",
   "nbconvert_exporter": "python",
   "pygments_lexer": "ipython3",
   "version": "3.6.13"
  },
  "latex_envs": {
   "LaTeX_envs_menu_present": true,
   "autoclose": false,
   "autocomplete": true,
   "bibliofile": "biblio.bib",
   "cite_by": "apalike",
   "current_citInitial": 1,
   "eqLabelWithNumbers": true,
   "eqNumInitial": 1,
   "hotkeys": {
    "equation": "Ctrl-E",
    "itemize": "Ctrl-I"
   },
   "labels_anchors": false,
   "latex_user_defs": false,
   "report_style_numbering": false,
   "user_envs_cfg": false
  },
  "toc": {
   "base_numbering": 1,
   "nav_menu": {},
   "number_sections": true,
   "sideBar": true,
   "skip_h1_title": false,
   "title_cell": "Table of Contents",
   "title_sidebar": "Contents",
   "toc_cell": false,
   "toc_position": {},
   "toc_section_display": true,
   "toc_window_display": false
  }
 },
 "nbformat": 4,
 "nbformat_minor": 1
}
